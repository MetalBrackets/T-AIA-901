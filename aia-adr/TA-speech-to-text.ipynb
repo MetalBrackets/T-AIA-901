{
 "cells": [
  {
   "cell_type": "code",
   "execution_count": null,
   "metadata": {},
   "outputs": [],
   "source": [
    "# Enregistrer des enregistrements audios\n",
    "# lire les enregistrements\n",
    "# tester différentes feature speech to text\n",
    "# écrire le résumé de l'étude dans le fichier TA-speec-to-text.md"
   ]
  }
 ],
 "metadata": {
  "language_info": {
   "name": "python"
  }
 },
 "nbformat": 4,
 "nbformat_minor": 2
}
