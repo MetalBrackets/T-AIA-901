{
 "cells": [
  {
   "cell_type": "code",
   "execution_count": null,
   "metadata": {},
   "outputs": [],
   "source": [
    "# Il reçoit `sentenceID, Departure, Destination`\n",
    "# Il trouve le meilleur trajet - tous les arrêts - parmi toutes les gares entre 2 coordonnées GPS"
   ]
  }
 ],
 "metadata": {
  "language_info": {
   "name": "python"
  }
 },
 "nbformat": 4,
 "nbformat_minor": 2
}
